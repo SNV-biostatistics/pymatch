{
 "cells": [
  {
   "cell_type": "markdown",
   "metadata": {},
   "source": [
    "# Propensity Score Matching Example\n",
    "\n",
    "This following example follows the example given in the original <code>PyMatch</code> [package](https://github.com/benmiroglio/pymatch). The example will use the [Lending Club Loan Data](https://www.kaggle.com/wendykan/lending-club-loan-data) from Kaggle. The original package and example focuses on homogeneous dependent variables, such as data exclusively fully paid off loans or fully defaulted loans. Our work data usually contains dichotomous outcomes: 1 *or* 0. This reworked package attempts to make that fix.\n",
    "\n",
    "In this example, we will randomly sample **Fully Paid Off** loans and **Defaulted** loans. As this is a large data set with millions of observations, random sampling will help matching purely for the sake of time and visual. This example will only go through the matching and show the matched data.\n",
    "\n",
    "\n",
    "## 1. Data Preparation"
   ]
  },
  {
   "cell_type": "code",
   "execution_count": 1,
   "metadata": {},
   "outputs": [],
   "source": [
    "import warnings\n",
    "import numpy as np\n",
    "import pandas as pd\n",
    "import pymatch_ds.functions as uf\n",
    "from pymatch_ds.Matcher import Matcher\n",
    "\n",
    "# suppress all the pandas re-indexing warnings\n",
    "warnings.filterwarnings('ignore')"
   ]
  },
  {
   "cell_type": "markdown",
   "metadata": {},
   "source": [
    "Load the dataset, select the fields of interest."
   ]
  },
  {
   "cell_type": "code",
   "execution_count": 2,
   "metadata": {},
   "outputs": [
    {
     "data": {
      "text/html": [
       "<div>\n",
       "<style scoped>\n",
       "    .dataframe tbody tr th:only-of-type {\n",
       "        vertical-align: middle;\n",
       "    }\n",
       "\n",
       "    .dataframe tbody tr th {\n",
       "        vertical-align: top;\n",
       "    }\n",
       "\n",
       "    .dataframe thead th {\n",
       "        text-align: right;\n",
       "    }\n",
       "</style>\n",
       "<table border=\"1\" class=\"dataframe\">\n",
       "  <thead>\n",
       "    <tr style=\"text-align: right;\">\n",
       "      <th></th>\n",
       "      <th>loan_amnt</th>\n",
       "      <th>funded_amnt</th>\n",
       "      <th>funded_amnt_inv</th>\n",
       "      <th>term</th>\n",
       "      <th>int_rate</th>\n",
       "      <th>installment</th>\n",
       "      <th>grade</th>\n",
       "      <th>sub_grade</th>\n",
       "      <th>annual_inc</th>\n",
       "      <th>loan_status</th>\n",
       "      <th>hardship_flag</th>\n",
       "    </tr>\n",
       "  </thead>\n",
       "  <tbody>\n",
       "    <tr>\n",
       "      <th>0</th>\n",
       "      <td>2500</td>\n",
       "      <td>2500</td>\n",
       "      <td>2500.0</td>\n",
       "      <td>36 months</td>\n",
       "      <td>13.56</td>\n",
       "      <td>84.92</td>\n",
       "      <td>C</td>\n",
       "      <td>C1</td>\n",
       "      <td>55000.0</td>\n",
       "      <td>Current</td>\n",
       "      <td>N</td>\n",
       "    </tr>\n",
       "    <tr>\n",
       "      <th>1</th>\n",
       "      <td>30000</td>\n",
       "      <td>30000</td>\n",
       "      <td>30000.0</td>\n",
       "      <td>60 months</td>\n",
       "      <td>18.94</td>\n",
       "      <td>777.23</td>\n",
       "      <td>D</td>\n",
       "      <td>D2</td>\n",
       "      <td>90000.0</td>\n",
       "      <td>Current</td>\n",
       "      <td>N</td>\n",
       "    </tr>\n",
       "    <tr>\n",
       "      <th>2</th>\n",
       "      <td>5000</td>\n",
       "      <td>5000</td>\n",
       "      <td>5000.0</td>\n",
       "      <td>36 months</td>\n",
       "      <td>17.97</td>\n",
       "      <td>180.69</td>\n",
       "      <td>D</td>\n",
       "      <td>D1</td>\n",
       "      <td>59280.0</td>\n",
       "      <td>Current</td>\n",
       "      <td>N</td>\n",
       "    </tr>\n",
       "    <tr>\n",
       "      <th>3</th>\n",
       "      <td>4000</td>\n",
       "      <td>4000</td>\n",
       "      <td>4000.0</td>\n",
       "      <td>36 months</td>\n",
       "      <td>18.94</td>\n",
       "      <td>146.51</td>\n",
       "      <td>D</td>\n",
       "      <td>D2</td>\n",
       "      <td>92000.0</td>\n",
       "      <td>Current</td>\n",
       "      <td>N</td>\n",
       "    </tr>\n",
       "    <tr>\n",
       "      <th>4</th>\n",
       "      <td>30000</td>\n",
       "      <td>30000</td>\n",
       "      <td>30000.0</td>\n",
       "      <td>60 months</td>\n",
       "      <td>16.14</td>\n",
       "      <td>731.78</td>\n",
       "      <td>C</td>\n",
       "      <td>C4</td>\n",
       "      <td>57250.0</td>\n",
       "      <td>Current</td>\n",
       "      <td>N</td>\n",
       "    </tr>\n",
       "  </tbody>\n",
       "</table>\n",
       "</div>"
      ],
      "text/plain": [
       "   loan_amnt  funded_amnt  funded_amnt_inv        term  int_rate  installment  \\\n",
       "0       2500         2500           2500.0   36 months     13.56        84.92   \n",
       "1      30000        30000          30000.0   60 months     18.94       777.23   \n",
       "2       5000         5000           5000.0   36 months     17.97       180.69   \n",
       "3       4000         4000           4000.0   36 months     18.94       146.51   \n",
       "4      30000        30000          30000.0   60 months     16.14       731.78   \n",
       "\n",
       "  grade sub_grade  annual_inc loan_status hardship_flag  \n",
       "0     C        C1     55000.0     Current             N  \n",
       "1     D        D2     90000.0     Current             N  \n",
       "2     D        D1     59280.0     Current             N  \n",
       "3     D        D2     92000.0     Current             N  \n",
       "4     C        C4     57250.0     Current             N  "
      ]
     },
     "execution_count": 2,
     "metadata": {},
     "output_type": "execute_result"
    }
   ],
   "source": [
    "path = 'loan.csv'\n",
    "#take columns of interest\n",
    "fields = ['loan_amnt', 'funded_amnt', 'funded_amnt_inv', 'term', 'int_rate',\n",
    "          'installment', 'grade', 'sub_grade', 'annual_inc', 'loan_status',\n",
    "          'hardship_flag']\n",
    "source = pd.read_csv(path)[fields]\n",
    "source.head()"
   ]
  },
  {
   "cell_type": "markdown",
   "metadata": {},
   "source": [
    "For the sake of this matching, we will treat all long late loans (classified as those 31-120 days late) as defaulted as well. Although this is a categorical variable, this such a variable would work better as a continuous variable designated by \"how late\". Regardless, we'll reclassify and split the Fully Paid and Defaulted Loans."
   ]
  },
  {
   "cell_type": "code",
   "execution_count": 3,
   "metadata": {},
   "outputs": [],
   "source": [
    "source['loan_status'] = source['loan_status'].replace('Late (31-120 days)', 'Default')\n",
    "fully_paid = source[source['loan_status'] == 'Fully Paid']\n",
    "default = source[source['loan_status'] == 'Default']"
   ]
  },
  {
   "cell_type": "markdown",
   "metadata": {},
   "source": [
    "With the 2 datasets created, we will create 2 \"banks\" worth of data. We will combine the data together. From there, the data will be randomly sampled into a test data set (Bank 1) and a control data set (Bank 2). Observations found in Bank 1 will be excluded from Bank 2 thus they can be truly independent of each other."
   ]
  },
  {
   "cell_type": "code",
   "execution_count": 4,
   "metadata": {},
   "outputs": [
    {
     "data": {
      "text/html": [
       "<div>\n",
       "<style scoped>\n",
       "    .dataframe tbody tr th:only-of-type {\n",
       "        vertical-align: middle;\n",
       "    }\n",
       "\n",
       "    .dataframe tbody tr th {\n",
       "        vertical-align: top;\n",
       "    }\n",
       "\n",
       "    .dataframe thead th {\n",
       "        text-align: right;\n",
       "    }\n",
       "</style>\n",
       "<table border=\"1\" class=\"dataframe\">\n",
       "  <thead>\n",
       "    <tr style=\"text-align: right;\">\n",
       "      <th></th>\n",
       "      <th>loan_amnt</th>\n",
       "      <th>funded_amnt</th>\n",
       "      <th>funded_amnt_inv</th>\n",
       "      <th>term</th>\n",
       "      <th>int_rate</th>\n",
       "      <th>installment</th>\n",
       "      <th>grade</th>\n",
       "      <th>sub_grade</th>\n",
       "      <th>annual_inc</th>\n",
       "      <th>loan_status</th>\n",
       "      <th>hardship_flag</th>\n",
       "    </tr>\n",
       "  </thead>\n",
       "  <tbody>\n",
       "    <tr>\n",
       "      <th>1887782</th>\n",
       "      <td>20000</td>\n",
       "      <td>20000</td>\n",
       "      <td>20000.0</td>\n",
       "      <td>36 months</td>\n",
       "      <td>8.67</td>\n",
       "      <td>632.93</td>\n",
       "      <td>B</td>\n",
       "      <td>B1</td>\n",
       "      <td>80000.0</td>\n",
       "      <td>Fully Paid</td>\n",
       "      <td>N</td>\n",
       "    </tr>\n",
       "    <tr>\n",
       "      <th>1943813</th>\n",
       "      <td>6000</td>\n",
       "      <td>6000</td>\n",
       "      <td>6000.0</td>\n",
       "      <td>36 months</td>\n",
       "      <td>24.50</td>\n",
       "      <td>236.98</td>\n",
       "      <td>F</td>\n",
       "      <td>F3</td>\n",
       "      <td>45000.0</td>\n",
       "      <td>Fully Paid</td>\n",
       "      <td>N</td>\n",
       "    </tr>\n",
       "    <tr>\n",
       "      <th>802313</th>\n",
       "      <td>7000</td>\n",
       "      <td>7000</td>\n",
       "      <td>7000.0</td>\n",
       "      <td>36 months</td>\n",
       "      <td>8.49</td>\n",
       "      <td>220.95</td>\n",
       "      <td>B</td>\n",
       "      <td>B1</td>\n",
       "      <td>42000.0</td>\n",
       "      <td>Fully Paid</td>\n",
       "      <td>N</td>\n",
       "    </tr>\n",
       "    <tr>\n",
       "      <th>1932713</th>\n",
       "      <td>6000</td>\n",
       "      <td>6000</td>\n",
       "      <td>6000.0</td>\n",
       "      <td>36 months</td>\n",
       "      <td>14.49</td>\n",
       "      <td>206.50</td>\n",
       "      <td>C</td>\n",
       "      <td>C4</td>\n",
       "      <td>150000.0</td>\n",
       "      <td>Fully Paid</td>\n",
       "      <td>N</td>\n",
       "    </tr>\n",
       "    <tr>\n",
       "      <th>507701</th>\n",
       "      <td>5600</td>\n",
       "      <td>5600</td>\n",
       "      <td>5600.0</td>\n",
       "      <td>36 months</td>\n",
       "      <td>9.49</td>\n",
       "      <td>179.36</td>\n",
       "      <td>B</td>\n",
       "      <td>B2</td>\n",
       "      <td>45000.0</td>\n",
       "      <td>Fully Paid</td>\n",
       "      <td>N</td>\n",
       "    </tr>\n",
       "  </tbody>\n",
       "</table>\n",
       "</div>"
      ],
      "text/plain": [
       "         loan_amnt  funded_amnt  funded_amnt_inv        term  int_rate  \\\n",
       "1887782      20000        20000          20000.0   36 months      8.67   \n",
       "1943813       6000         6000           6000.0   36 months     24.50   \n",
       "802313        7000         7000           7000.0   36 months      8.49   \n",
       "1932713       6000         6000           6000.0   36 months     14.49   \n",
       "507701        5600         5600           5600.0   36 months      9.49   \n",
       "\n",
       "         installment grade sub_grade  annual_inc loan_status hardship_flag  \n",
       "1887782       632.93     B        B1     80000.0  Fully Paid             N  \n",
       "1943813       236.98     F        F3     45000.0  Fully Paid             N  \n",
       "802313        220.95     B        B1     42000.0  Fully Paid             N  \n",
       "1932713       206.50     C        C4    150000.0  Fully Paid             N  \n",
       "507701        179.36     B        B2     45000.0  Fully Paid             N  "
      ]
     },
     "execution_count": 4,
     "metadata": {},
     "output_type": "execute_result"
    }
   ],
   "source": [
    "# sample 20k records from fully paid and 2k from defaulted\n",
    "df = fully_paid.sample(20000, random_state = 42).append(default.sample(2000, random_state = 42))\n",
    "test = df.sample(1000, replace = True, random_state = 43)\n",
    "control = df.sample(10000, replace = True, random_state = 21)\n",
    "test = test[~test.index.isin(control.index)]\n",
    "test.head()"
   ]
  },
  {
   "cell_type": "markdown",
   "metadata": {},
   "source": [
    "The data sets will have indicator variables appended to them so figuring out which dataset they are from is simple. Furthermore, as propensity score matching is done via logistic regression, the dependent variable, <code>loan_status</code> will be recoded to 0 and 1 for Fully Paid and Defaulted loans respectively."
   ]
  },
  {
   "cell_type": "code",
   "execution_count": 5,
   "metadata": {},
   "outputs": [
    {
     "data": {
      "text/html": [
       "<div>\n",
       "<style scoped>\n",
       "    .dataframe tbody tr th:only-of-type {\n",
       "        vertical-align: middle;\n",
       "    }\n",
       "\n",
       "    .dataframe tbody tr th {\n",
       "        vertical-align: top;\n",
       "    }\n",
       "\n",
       "    .dataframe thead th {\n",
       "        text-align: right;\n",
       "    }\n",
       "</style>\n",
       "<table border=\"1\" class=\"dataframe\">\n",
       "  <thead>\n",
       "    <tr style=\"text-align: right;\">\n",
       "      <th></th>\n",
       "      <th>loan_amnt</th>\n",
       "      <th>funded_amnt</th>\n",
       "      <th>funded_amnt_inv</th>\n",
       "      <th>term</th>\n",
       "      <th>int_rate</th>\n",
       "      <th>installment</th>\n",
       "      <th>grade</th>\n",
       "      <th>sub_grade</th>\n",
       "      <th>annual_inc</th>\n",
       "      <th>loan_status</th>\n",
       "      <th>hardship_flag</th>\n",
       "      <th>set_num</th>\n",
       "    </tr>\n",
       "  </thead>\n",
       "  <tbody>\n",
       "    <tr>\n",
       "      <th>1887782</th>\n",
       "      <td>20000</td>\n",
       "      <td>20000</td>\n",
       "      <td>20000.0</td>\n",
       "      <td>36 months</td>\n",
       "      <td>8.67</td>\n",
       "      <td>632.93</td>\n",
       "      <td>B</td>\n",
       "      <td>B1</td>\n",
       "      <td>80000.0</td>\n",
       "      <td>0</td>\n",
       "      <td>N</td>\n",
       "      <td>1</td>\n",
       "    </tr>\n",
       "    <tr>\n",
       "      <th>1943813</th>\n",
       "      <td>6000</td>\n",
       "      <td>6000</td>\n",
       "      <td>6000.0</td>\n",
       "      <td>36 months</td>\n",
       "      <td>24.50</td>\n",
       "      <td>236.98</td>\n",
       "      <td>F</td>\n",
       "      <td>F3</td>\n",
       "      <td>45000.0</td>\n",
       "      <td>0</td>\n",
       "      <td>N</td>\n",
       "      <td>1</td>\n",
       "    </tr>\n",
       "    <tr>\n",
       "      <th>802313</th>\n",
       "      <td>7000</td>\n",
       "      <td>7000</td>\n",
       "      <td>7000.0</td>\n",
       "      <td>36 months</td>\n",
       "      <td>8.49</td>\n",
       "      <td>220.95</td>\n",
       "      <td>B</td>\n",
       "      <td>B1</td>\n",
       "      <td>42000.0</td>\n",
       "      <td>0</td>\n",
       "      <td>N</td>\n",
       "      <td>1</td>\n",
       "    </tr>\n",
       "    <tr>\n",
       "      <th>1932713</th>\n",
       "      <td>6000</td>\n",
       "      <td>6000</td>\n",
       "      <td>6000.0</td>\n",
       "      <td>36 months</td>\n",
       "      <td>14.49</td>\n",
       "      <td>206.50</td>\n",
       "      <td>C</td>\n",
       "      <td>C4</td>\n",
       "      <td>150000.0</td>\n",
       "      <td>0</td>\n",
       "      <td>N</td>\n",
       "      <td>1</td>\n",
       "    </tr>\n",
       "    <tr>\n",
       "      <th>507701</th>\n",
       "      <td>5600</td>\n",
       "      <td>5600</td>\n",
       "      <td>5600.0</td>\n",
       "      <td>36 months</td>\n",
       "      <td>9.49</td>\n",
       "      <td>179.36</td>\n",
       "      <td>B</td>\n",
       "      <td>B2</td>\n",
       "      <td>45000.0</td>\n",
       "      <td>0</td>\n",
       "      <td>N</td>\n",
       "      <td>1</td>\n",
       "    </tr>\n",
       "  </tbody>\n",
       "</table>\n",
       "</div>"
      ],
      "text/plain": [
       "         loan_amnt  funded_amnt  funded_amnt_inv        term  int_rate  \\\n",
       "1887782      20000        20000          20000.0   36 months      8.67   \n",
       "1943813       6000         6000           6000.0   36 months     24.50   \n",
       "802313        7000         7000           7000.0   36 months      8.49   \n",
       "1932713       6000         6000           6000.0   36 months     14.49   \n",
       "507701        5600         5600           5600.0   36 months      9.49   \n",
       "\n",
       "         installment grade sub_grade  annual_inc  loan_status hardship_flag  \\\n",
       "1887782       632.93     B        B1     80000.0            0             N   \n",
       "1943813       236.98     F        F3     45000.0            0             N   \n",
       "802313        220.95     B        B1     42000.0            0             N   \n",
       "1932713       206.50     C        C4    150000.0            0             N   \n",
       "507701        179.36     B        B2     45000.0            0             N   \n",
       "\n",
       "         set_num  \n",
       "1887782        1  \n",
       "1943813        1  \n",
       "802313         1  \n",
       "1932713        1  \n",
       "507701         1  "
      ]
     },
     "execution_count": 5,
     "metadata": {},
     "output_type": "execute_result"
    }
   ],
   "source": [
    "# add indicator variables to datasets for data set source\n",
    "test['set_num'] = 1\n",
    "control['set_num'] = 2\n",
    "\n",
    "# change loan_status to binary\n",
    "test['loan_status'] = test['loan_status'].replace(['Fully Paid', 'Default'], \n",
    "                                                  [0, 1])\n",
    "control['loan_status'] = control['loan_status'].replace(['Fully Paid', 'Default'], \n",
    "                                                  [0, 1])\n",
    "test.head()"
   ]
  },
  {
   "cell_type": "markdown",
   "metadata": {},
   "source": [
    "## 2. Fit the Propensity Score Model\n",
    "\n",
    "The package's main <code>Matcher</code> will be used for the brunt of the matching. Upon initialization, the object will print the formula for the logistic regression model for the probability of defaulting on a loan. All the variables on the right side of the ~ are the predictors. The number of observations in the test set and control set (from where we want to match) will also be provided. "
   ]
  },
  {
   "cell_type": "code",
   "execution_count": 6,
   "metadata": {},
   "outputs": [
    {
     "name": "stdout",
     "output_type": "stream",
     "text": [
      "Formula:\n",
      "loan_status ~ loan_amnt + funded_amnt + funded_amnt_inv + term + int_rate + installment + grade + sub_grade + annual_inc + hardship_flag\n",
      "n base:  631\n",
      "n to match:  10000\n"
     ]
    }
   ],
   "source": [
    "model = Matcher(test, control, yvar = 'loan_status', ds = 'set_num')\n",
    "np.random.seed(20200625) #reproducibility"
   ]
  },
  {
   "cell_type": "markdown",
   "metadata": {},
   "source": [
    "Since there are so few observations in our base set compared to our control set, we will specify the argument <code>balance = True</code> such that the sampling from the larger control set is equal in group size. Logistic regression models are run on the matches as a feature extraction tool, or the generation of propensity scores. Thus, it would be good practice to run more than one model as an argument in the <code>fit_scores</code> method. If the number of models isn't specified, the module auto calculates an appropriate number."
   ]
  },
  {
   "cell_type": "code",
   "execution_count": 7,
   "metadata": {},
   "outputs": [
    {
     "name": "stdout",
     "output_type": "stream",
     "text": [
      "Static columns dropped: [] Samples: 20\\20\n",
      "Average Accuracy: 86.43%\n"
     ]
    }
   ],
   "source": [
    "model.fit_scores(balance = True)"
   ]
  },
  {
   "cell_type": "markdown",
   "metadata": {},
   "source": [
    "No columns are dropped for being homogeneous and 20 models are run.\n",
    "\n",
    "## 3. Predict the Scores"
   ]
  },
  {
   "cell_type": "code",
   "execution_count": 8,
   "metadata": {},
   "outputs": [
    {
     "data": {
      "image/png": "[encoded data removed]",
      "text/plain": [
       "<Figure size 720x360 with 1 Axes>"
      ]
     },
     "metadata": {
      "needs_background": "light"
     },
     "output_type": "display_data"
    }
   ],
   "source": [
    "model.predict_scores()\n",
    "model.plot_scores()"
   ]
  },
  {
   "cell_type": "markdown",
   "metadata": {},
   "source": [
    "The plot of the propensity scores show that, more or less, both the test and control sets have similar probabilities for their loan members to default on the loan. Intuitively, that is to be expected, as we sampled random paid and defaulted loans and mashed them together to make a data set. And that's fine - for this type of matching, the score distribution should not matter *too* much. Our ultimate goal is the couple each observation with the closest matching observation from the control set.\n",
    "\n",
    "The next step is to calculate a threshold. What minimum value of differences in propensity scores can we have, retain our matches, and still retain a maximum of test data set data?\n",
    "\n",
    "This paragraph is lifted directly from the original <code>PyMatch</code> package example with a couple changes that more appropriately define our type of matching:  \n",
    "By default matches are found *from* the majority group *for* the minority group. For example, if our test group contains 1,000 records and our control group contains 20,000, Matcher will iterate through the test group and find suitable matches from the control group. If a record in the minority group has no suitable matches, it is dropped from the final matched dataset. We need to ensure our threshold is small enough such that we get close matches and retain most (or all) of our data in the test group.\n",
    "\n",
    "Keep in mind as datasets get larger, the time it takes for the tuner and fitter to run increases quickly as they iterate through every single observation, and multiple times."
   ]
  },
  {
   "cell_type": "code",
   "execution_count": 9,
   "metadata": {},
   "outputs": [
    {
     "data": {
      "image/png": "[encoded data removed]",
      "text/plain": [
       "<Figure size 720x360 with 1 Axes>"
      ]
     },
     "metadata": {
      "needs_background": "light"
     },
     "output_type": "display_data"
    }
   ],
   "source": [
    "model.tune_threshold(method = 'random') #max threshold of 0.0002"
   ]
  },
  {
   "cell_type": "markdown",
   "metadata": {},
   "source": [
    "Looks like a threshold value of 0.0002 retains 100% of the data. Thus we will use this threshold to perform the actual matching.\n",
    "\n",
    "## 4. Match Data\n",
    "\n",
    "Data is matched with replacement. This means each observation from the test group can have multiple matches from the control group. <code>Matcher</code> will find the best match with the <code>min</code> argument passed through."
   ]
  },
  {
   "cell_type": "code",
   "execution_count": 10,
   "metadata": {},
   "outputs": [],
   "source": [
    "model.match(method = 'min', nmatches = 1, threshold = 0.0002)"
   ]
  },
  {
   "cell_type": "markdown",
   "metadata": {},
   "source": [
    "We can see if any observations were used to match multiple times."
   ]
  },
  {
   "cell_type": "code",
   "execution_count": 11,
   "metadata": {},
   "outputs": [
    {
     "data": {
      "text/html": [
       "<div>\n",
       "<style scoped>\n",
       "    .dataframe tbody tr th:only-of-type {\n",
       "        vertical-align: middle;\n",
       "    }\n",
       "\n",
       "    .dataframe tbody tr th {\n",
       "        vertical-align: top;\n",
       "    }\n",
       "\n",
       "    .dataframe thead th {\n",
       "        text-align: right;\n",
       "    }\n",
       "</style>\n",
       "<table border=\"1\" class=\"dataframe\">\n",
       "  <thead>\n",
       "    <tr style=\"text-align: right;\">\n",
       "      <th></th>\n",
       "      <th>freq</th>\n",
       "      <th>n_records</th>\n",
       "    </tr>\n",
       "  </thead>\n",
       "  <tbody>\n",
       "    <tr>\n",
       "      <th>0</th>\n",
       "      <td>1</td>\n",
       "      <td>1164</td>\n",
       "    </tr>\n",
       "    <tr>\n",
       "      <th>1</th>\n",
       "      <td>2</td>\n",
       "      <td>46</td>\n",
       "    </tr>\n",
       "    <tr>\n",
       "      <th>2</th>\n",
       "      <td>3</td>\n",
       "      <td>2</td>\n",
       "    </tr>\n",
       "  </tbody>\n",
       "</table>\n",
       "</div>"
      ],
      "text/plain": [
       "   freq  n_records\n",
       "0     1       1164\n",
       "1     2         46\n",
       "2     3          2"
      ]
     },
     "execution_count": 11,
     "metadata": {},
     "output_type": "execute_result"
    }
   ],
   "source": [
    "model.record_frequency()"
   ]
  },
  {
   "cell_type": "markdown",
   "metadata": {},
   "source": [
    "Almost all the observations were used once. A weight vector can be added because some observations were used multiple times."
   ]
  },
  {
   "cell_type": "code",
   "execution_count": 12,
   "metadata": {},
   "outputs": [],
   "source": [
    "model.assign_weight_vector()"
   ]
  },
  {
   "cell_type": "markdown",
   "metadata": {},
   "source": [
    "With all the matching complete, we can take a look at the matched data. As <code>nmatches = 1</code> was specified earlier, all of the matches will be paired matches. The <code>match</code> method adds match IDs so identification of observations is easier. The propensity scores can be manually verified too."
   ]
  },
  {
   "cell_type": "code",
   "execution_count": 13,
   "metadata": {},
   "outputs": [
    {
     "data": {
      "text/html": [
       "<div>\n",
       "<style scoped>\n",
       "    .dataframe tbody tr th:only-of-type {\n",
       "        vertical-align: middle;\n",
       "    }\n",
       "\n",
       "    .dataframe tbody tr th {\n",
       "        vertical-align: top;\n",
       "    }\n",
       "\n",
       "    .dataframe thead th {\n",
       "        text-align: right;\n",
       "    }\n",
       "</style>\n",
       "<table border=\"1\" class=\"dataframe\">\n",
       "  <thead>\n",
       "    <tr style=\"text-align: right;\">\n",
       "      <th></th>\n",
       "      <th>record_id</th>\n",
       "      <th>weight</th>\n",
       "      <th>loan_amnt</th>\n",
       "      <th>funded_amnt</th>\n",
       "      <th>funded_amnt_inv</th>\n",
       "      <th>term</th>\n",
       "      <th>int_rate</th>\n",
       "      <th>installment</th>\n",
       "      <th>grade</th>\n",
       "      <th>sub_grade</th>\n",
       "      <th>annual_inc</th>\n",
       "      <th>loan_status</th>\n",
       "      <th>hardship_flag</th>\n",
       "      <th>set_num</th>\n",
       "      <th>scores</th>\n",
       "      <th>match_id</th>\n",
       "    </tr>\n",
       "  </thead>\n",
       "  <tbody>\n",
       "    <tr>\n",
       "      <th>0</th>\n",
       "      <td>0</td>\n",
       "      <td>1.0</td>\n",
       "      <td>20000</td>\n",
       "      <td>20000</td>\n",
       "      <td>20000.0</td>\n",
       "      <td>36 months</td>\n",
       "      <td>8.67</td>\n",
       "      <td>632.93</td>\n",
       "      <td>B</td>\n",
       "      <td>B1</td>\n",
       "      <td>80000.0</td>\n",
       "      <td>0</td>\n",
       "      <td>N</td>\n",
       "      <td>1</td>\n",
       "      <td>0.072553</td>\n",
       "      <td>0</td>\n",
       "    </tr>\n",
       "    <tr>\n",
       "      <th>911</th>\n",
       "      <td>4776</td>\n",
       "      <td>1.0</td>\n",
       "      <td>12000</td>\n",
       "      <td>12000</td>\n",
       "      <td>12000.0</td>\n",
       "      <td>60 months</td>\n",
       "      <td>24.08</td>\n",
       "      <td>345.78</td>\n",
       "      <td>F</td>\n",
       "      <td>F2</td>\n",
       "      <td>61000.0</td>\n",
       "      <td>1</td>\n",
       "      <td>N</td>\n",
       "      <td>2</td>\n",
       "      <td>0.072520</td>\n",
       "      <td>0</td>\n",
       "    </tr>\n",
       "    <tr>\n",
       "      <th>1</th>\n",
       "      <td>1</td>\n",
       "      <td>1.0</td>\n",
       "      <td>6000</td>\n",
       "      <td>6000</td>\n",
       "      <td>6000.0</td>\n",
       "      <td>36 months</td>\n",
       "      <td>24.50</td>\n",
       "      <td>236.98</td>\n",
       "      <td>F</td>\n",
       "      <td>F3</td>\n",
       "      <td>45000.0</td>\n",
       "      <td>0</td>\n",
       "      <td>N</td>\n",
       "      <td>1</td>\n",
       "      <td>0.002304</td>\n",
       "      <td>1</td>\n",
       "    </tr>\n",
       "    <tr>\n",
       "      <th>652</th>\n",
       "      <td>1018</td>\n",
       "      <td>1.0</td>\n",
       "      <td>9500</td>\n",
       "      <td>9500</td>\n",
       "      <td>9500.0</td>\n",
       "      <td>36 months</td>\n",
       "      <td>6.07</td>\n",
       "      <td>289.31</td>\n",
       "      <td>A</td>\n",
       "      <td>A2</td>\n",
       "      <td>30000.0</td>\n",
       "      <td>1</td>\n",
       "      <td>N</td>\n",
       "      <td>2</td>\n",
       "      <td>0.002300</td>\n",
       "      <td>1</td>\n",
       "    </tr>\n",
       "    <tr>\n",
       "      <th>2</th>\n",
       "      <td>2</td>\n",
       "      <td>1.0</td>\n",
       "      <td>7000</td>\n",
       "      <td>7000</td>\n",
       "      <td>7000.0</td>\n",
       "      <td>36 months</td>\n",
       "      <td>8.49</td>\n",
       "      <td>220.95</td>\n",
       "      <td>B</td>\n",
       "      <td>B1</td>\n",
       "      <td>42000.0</td>\n",
       "      <td>0</td>\n",
       "      <td>N</td>\n",
       "      <td>1</td>\n",
       "      <td>0.067048</td>\n",
       "      <td>2</td>\n",
       "    </tr>\n",
       "    <tr>\n",
       "      <th>1093</th>\n",
       "      <td>7659</td>\n",
       "      <td>1.0</td>\n",
       "      <td>10000</td>\n",
       "      <td>10000</td>\n",
       "      <td>10000.0</td>\n",
       "      <td>60 months</td>\n",
       "      <td>9.49</td>\n",
       "      <td>209.97</td>\n",
       "      <td>B</td>\n",
       "      <td>B2</td>\n",
       "      <td>50000.0</td>\n",
       "      <td>0</td>\n",
       "      <td>N</td>\n",
       "      <td>2</td>\n",
       "      <td>0.067054</td>\n",
       "      <td>2</td>\n",
       "    </tr>\n",
       "  </tbody>\n",
       "</table>\n",
       "</div>"
      ],
      "text/plain": [
       "      record_id  weight  loan_amnt  funded_amnt  funded_amnt_inv        term  \\\n",
       "0             0     1.0      20000        20000          20000.0   36 months   \n",
       "911        4776     1.0      12000        12000          12000.0   60 months   \n",
       "1             1     1.0       6000         6000           6000.0   36 months   \n",
       "652        1018     1.0       9500         9500           9500.0   36 months   \n",
       "2             2     1.0       7000         7000           7000.0   36 months   \n",
       "1093       7659     1.0      10000        10000          10000.0   60 months   \n",
       "\n",
       "      int_rate  installment grade sub_grade  annual_inc  loan_status  \\\n",
       "0         8.67       632.93     B        B1     80000.0            0   \n",
       "911      24.08       345.78     F        F2     61000.0            1   \n",
       "1        24.50       236.98     F        F3     45000.0            0   \n",
       "652       6.07       289.31     A        A2     30000.0            1   \n",
       "2         8.49       220.95     B        B1     42000.0            0   \n",
       "1093      9.49       209.97     B        B2     50000.0            0   \n",
       "\n",
       "     hardship_flag  set_num    scores  match_id  \n",
       "0                N        1  0.072553         0  \n",
       "911              N        2  0.072520         0  \n",
       "1                N        1  0.002304         1  \n",
       "652              N        2  0.002300         1  \n",
       "2                N        1  0.067048         2  \n",
       "1093             N        2  0.067054         2  "
      ]
     },
     "execution_count": 13,
     "metadata": {},
     "output_type": "execute_result"
    }
   ],
   "source": [
    "model.matched_data.sort_values('match_id').head(6)"
   ]
  },
  {
   "cell_type": "markdown",
   "metadata": {},
   "source": [
    "## 5. Run Statistical Tests\n",
    "\n",
    "Now that we have matched data, we can run statistical tests or models of some sort. For simplicity, this will be a 2-sample proportions test. With the matched data, we want to evaluate if Bank 1 and Bank 2 default at the same rates, or if one bank is more predatory than the others."
   ]
  },
  {
   "cell_type": "code",
   "execution_count": 14,
   "metadata": {},
   "outputs": [
    {
     "data": {
      "text/plain": [
       "0    580\n",
       "1     51\n",
       "Name: loan_status, dtype: int64"
      ]
     },
     "execution_count": 14,
     "metadata": {},
     "output_type": "execute_result"
    }
   ],
   "source": [
    "df_match_bank1 = model.matched_data[model.matched_data['set_num'] == 1]\n",
    "df_match_bank2 = model.matched_data[model.matched_data['set_num'] == 2]\n",
    "\n",
    "df_match_bank1.loan_status.value_counts()"
   ]
  },
  {
   "cell_type": "code",
   "execution_count": 15,
   "metadata": {},
   "outputs": [
    {
     "data": {
      "text/plain": [
       "0    559\n",
       "1     72\n",
       "Name: loan_status, dtype: int64"
      ]
     },
     "execution_count": 15,
     "metadata": {},
     "output_type": "execute_result"
    }
   ],
   "source": [
    "df_match_bank2.loan_status.value_counts()"
   ]
  },
  {
   "cell_type": "code",
   "execution_count": 16,
   "metadata": {},
   "outputs": [
    {
     "name": "stdout",
     "output_type": "stream",
     "text": [
      "[51 72] [631 631]\n"
     ]
    }
   ],
   "source": [
    "# counts of defaults and paid off loans at each \"bank\"\n",
    "a = df_match_bank1['loan_status'].value_counts().reset_index()\n",
    "b = df_match_bank2['loan_status'].value_counts().reset_index()\n",
    "\n",
    "# how many defaults?\n",
    "values = list(a['index'])\n",
    "defaults_bank1 = a[a['index'] == values[1]].loan_status[1]\n",
    "defaults_bank2 = b[b['index'] == values[1]].loan_status[1]\n",
    "\n",
    "# how many total observations in each data set?\n",
    "n1 = np.sum(a['loan_status']) # counts for test data set\n",
    "n2 = np.sum(b['loan_status']) # counts for control data set\n",
    "\n",
    "counts = np.array([defaults_bank1, defaults_bank2])\n",
    "nobs = np.array([n1, n2])\n",
    "\n",
    "print(counts, nobs)"
   ]
  },
  {
   "cell_type": "markdown",
   "metadata": {},
   "source": [
    "For the time being, this is not a function within the <code>Matcher</code> class. However, since we have the counts of defaulted loans and the total observations in each data set, we can run a test to compare the proportions. Does it make sense this way? No, since we can instead sample the proportions from the full data sets to really check if a bank was being predatory. That being said, this method allows us to check if a bank was being predatory specifically towards similar profiles, e.g. loan members who were just as likely to default.\n",
    "\n",
    "The <code>statsmodels</code> package has this test readily available to use."
   ]
  },
  {
   "cell_type": "code",
   "execution_count": 17,
   "metadata": {},
   "outputs": [
    {
     "name": "stdout",
     "output_type": "stream",
     "text": [
      "-1.99 0.05\n"
     ]
    }
   ],
   "source": [
    "from statsmodels.stats.proportion import proportions_ztest\n",
    "stat, pval = proportions_ztest(counts, nobs)\n",
    "print(\"{:.2f}\".format(stat), \"{:.2f}\".format(pval))"
   ]
  },
  {
   "cell_type": "markdown",
   "metadata": {},
   "source": [
    "## 6. Conclusion\n",
    "\n",
    "We were able to appropriately match data from one dataset to the other while having a heterogeneous outcome variable. We were able to produce the matched dataset and even run further statistical tests. In this case, with a p-value of 0.05, we observe that indeed Bank 2 has a statistically significantly higher number of defaulted loans compared to Bank 1, specifically when comparing loan members that are almost exactly probably to default on a loan."
   ]
  },
  {
   "cell_type": "code",
   "execution_count": null,
   "metadata": {},
   "outputs": [],
   "source": []
  }
 ],
 "metadata": {
  "kernelspec": {
   "display_name": "Python 3",
   "language": "python",
   "name": "python3"
  },
  "language_info": {
   "codemirror_mode": {
    "name": "ipython",
    "version": 3
   },
   "file_extension": ".py",
   "mimetype": "text/x-python",
   "name": "python",
   "nbconvert_exporter": "python",
   "pygments_lexer": "ipython3",
   "version": "3.7.3"
  }
 },
 "nbformat": 4,
 "nbformat_minor": 2
}
